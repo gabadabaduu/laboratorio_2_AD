{
  "nbformat": 4,
  "nbformat_minor": 0,
  "metadata": {
    "colab": {
      "provenance": [],
      "mount_file_id": "1yChBZ2TeiVN3McEe-JOPAPFm1QFhErY_",
      "authorship_tag": "ABX9TyOJ5w3/9I9+3PBJ1nYtRXh0",
      "include_colab_link": true
    },
    "kernelspec": {
      "name": "python3",
      "display_name": "Python 3"
    },
    "language_info": {
      "name": "python"
    }
  },
  "cells": [
    {
      "cell_type": "markdown",
      "metadata": {
        "id": "view-in-github",
        "colab_type": "text"
      },
      "source": [
        "<a href=\"https://colab.research.google.com/github/gabadabaduu/laboratorio_2_AD/blob/main/Search.ipynb\" target=\"_parent\"><img src=\"https://colab.research.google.com/assets/colab-badge.svg\" alt=\"Open In Colab\"/></a>"
      ]
    },
    {
      "cell_type": "code",
      "execution_count": 3,
      "metadata": {
        "colab": {
          "base_uri": "https://localhost:8080/"
        },
        "id": "59paV_XM3LPX",
        "outputId": "32983cd8-e6d0-4b5c-e538-2b70b499fd15"
      },
      "outputs": [
        {
          "output_type": "stream",
          "name": "stdout",
          "text": [
            "Repostería y Panadería Saludable - Oriente\n",
            "Cuidado al Adulto Mayor para Cuidadores con Formación Técnica en Salud\n",
            "Aproximación a los Temas de Envejecimiento y Vejez desde las Ciencias Sociales\n",
            "Gestión Ambiental y Salud Pública: una mirada integradora\n",
            "Demografía para la Gestión en Salud Pública\n",
            "Intervención de Enfermería para la Prevención y Control de Infecciones Asociadas a la Atención en Salud\n",
            "Herramientas para la Implementación de la APS en los Equipos de Salud\n",
            "Cómo Escribir y Publicar en Ciencias de la Salud\n",
            "Informática y Analítica en Seguridad y Salud en el Trabajo\n",
            "Vigilancia de la Salud Auditiva, más allá de la Audiometría\n",
            "Crianza y Educación Consciente\n",
            "Neurociencias Aplicadas al Liderazgo y Coaching\n",
            "Acción Humanitaria, Emergencias en Salud y Nutrición\n",
            "Gimnasio Educativo Virtual: Acompañamiento, tutoría y evaluación en la educación mediada por TIC\n",
            "Mindfulness con Énfasis en Educación\n",
            "Salud Mental Comunitaría\n"
          ]
        }
      ],
      "source": [
        "import json\n",
        "\n",
        "def search_courses(interests, courses_data):\n",
        "    found_courses = []\n",
        "    for course in courses_data:\n",
        "        for interest in interests:\n",
        "            if interest.lower() in course['nombre'].lower():\n",
        "                found_courses.append(course)\n",
        "                break\n",
        "    return found_courses\n",
        "\n",
        "with open('/cursos.json', 'r') as json_file:\n",
        "    courses_data = json.load(json_file)\n",
        "\n",
        "interests = ['Salud', 'Educación', 'Ciencias']\n",
        "matching_courses = search_courses(interests, courses_data)\n",
        "for course in matching_courses:\n",
        "    print(course['nombre'])\n"
      ]
    }
  ]
}