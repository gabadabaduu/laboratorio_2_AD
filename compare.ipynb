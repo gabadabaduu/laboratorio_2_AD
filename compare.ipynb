{
  "nbformat": 4,
  "nbformat_minor": 0,
  "metadata": {
    "colab": {
      "provenance": [],
      "authorship_tag": "ABX9TyMy8mzmn1/CYgBXDUYko/64",
      "include_colab_link": true
    },
    "kernelspec": {
      "name": "python3",
      "display_name": "Python 3"
    },
    "language_info": {
      "name": "python"
    }
  },
  "cells": [
    {
      "cell_type": "markdown",
      "metadata": {
        "id": "view-in-github",
        "colab_type": "text"
      },
      "source": [
        "<a href=\"https://colab.research.google.com/github/gabadabaduu/laboratorio_2_AD/blob/main/compare.ipynb\" target=\"_parent\"><img src=\"https://colab.research.google.com/assets/colab-badge.svg\" alt=\"Open In Colab\"/></a>"
      ]
    },
    {
      "cell_type": "code",
      "execution_count": 3,
      "metadata": {
        "id": "H9bhaC7v8YC_"
      },
      "outputs": [],
      "source": [
        "def compare_courses(course1, course2):\n",
        "    # Definir los pesos para cada criterio de similitud\n",
        "    weights = {\n",
        "        \"duracion\": 0.25,\n",
        "        \"nivel\": 0.25,\n",
        "        \"fecha_inicio\": 0.25,\n",
        "        \"precio\": 0.25\n",
        "    }\n",
        "\n",
        "    # Calcular la similitud para cada criterio\n",
        "    similarity_scores = []\n",
        "    for key, weight in weights.items():\n",
        "        if course1[key] == course2[key]:\n",
        "            similarity_scores.append(weight)\n",
        "\n",
        "    # Calcular la similitud total\n",
        "    total_similarity = sum(similarity_scores) / sum(weights.values())\n",
        "\n",
        "    return total_similarity"
      ]
    },
    {
      "cell_type": "code",
      "source": [
        "# Ejemplo de uso\n",
        "course1 = {\n",
        "   \"duracion\": \"48 Horas\",\n",
        "        \"nivel\": \"Intermedio\",\n",
        "        \"fecha_inicio\": \"7/05/2024\",\n",
        "        \"precio\": \"$ 1.110.000\"\n",
        "}\n",
        "\n",
        "course2 = {\n",
        "    \"duracion\": \"48 Horas\",\n",
        "    \"nivel\": \"Intermedio\",\n",
        "    \"fecha_inicio\": \"11/05/2024\",\n",
        "    \"precio\": \"$ 1.110.000\"\n",
        "}\n",
        "\n",
        "similarity = compare_courses(course1, course2)\n",
        "print(similarity)"
      ],
      "metadata": {
        "colab": {
          "base_uri": "https://localhost:8080/"
        },
        "id": "RRYeH9t2_I7n",
        "outputId": "773b7e44-f93f-4767-c52e-93e8a065e118"
      },
      "execution_count": 4,
      "outputs": [
        {
          "output_type": "stream",
          "name": "stdout",
          "text": [
            "0.75\n"
          ]
        }
      ]
    }
  ]
}